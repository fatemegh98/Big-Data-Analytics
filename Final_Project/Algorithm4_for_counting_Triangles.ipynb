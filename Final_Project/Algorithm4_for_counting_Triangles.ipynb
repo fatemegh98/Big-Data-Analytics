{
 "cells": [
  {
   "cell_type": "code",
   "execution_count": 2,
   "metadata": {
    "collapsed": true,
    "pycharm": {
     "name": "#%%\n"
    }
   },
   "outputs": [],
   "source": [
    "import random\n",
    "from queue import PriorityQueue\n",
    "import matplotlib.pyplot as plt"
   ]
  },
  {
   "cell_type": "code",
   "execution_count": 3,
   "metadata": {
    "pycharm": {
     "name": "#%%\n"
    }
   },
   "outputs": [],
   "source": [
    "oregon_first = \"dataset/oregon1_010331.txt\"\n",
    "oregon_second = \"dataset/oregon1_010414.txt\"\n",
    "oregon_third = \"dataset/oregon1_010421.txt\"\n",
    "oregon_fourth = \"dataset/oregon1_010512.txt\"\n",
    "oregon_fifth = \"dataset/oregon1_010526.txt\"\n",
    "\n",
    "caida_2006_first = \"dataset/as-caida20060102.txt\"\n",
    "caida_2006_second = \"dataset/as-caida20060109.txt\"\n",
    "caida_2006_third = \"dataset/as-caida20060116.txt\"\n",
    "caida_2006_fourth = \"dataset/as-caida20060123.txt\"\n",
    "caida_2006_fifth = \"dataset/as-caida20060130.txt\"\n",
    "\n",
    "caida_2007_first = \"dataset/as-caida20070101.txt\"\n",
    "caida_2007_second = \"dataset/as-caida20070108.txt\"\n",
    "caida_2007_third = \"dataset/as-caida20070115.txt\"\n",
    "caida_2007_fourth = \"dataset/as-caida20070122.txt\"\n",
    "caida_2007_fifth = \"dataset/as-caida20070129.txt\""
   ]
  },
  {
   "cell_type": "code",
   "execution_count": 4,
   "outputs": [],
   "source": [
    "def my_oracle(file):\n",
    "    edges = {}\n",
    "    nodes = {}\n",
    "    file = open(file, 'r')\n",
    "    dataset = file.read()\n",
    "    data = dataset.split(\"\\n\")\n",
    "    data = [x for x in data if \"#\" not in x]\n",
    "    data = data[:-1]\n",
    "    for d in data:\n",
    "        t = d.split(\"\\t\")\n",
    "\n",
    "        v1 = int(d.split(\"\\t\")[0])\n",
    "        v2 = int(d.split(\"\\t\")[1])\n",
    "\n",
    "        if (v2 in nodes.get(v1, {})) and (v1 in nodes.get(v2, {})):\n",
    "            continue\n",
    "        else:\n",
    "            if v1 in nodes:\n",
    "                nodes[v1].add(v2)\n",
    "            else:\n",
    "                nodes[v1] = {v2}\n",
    "\n",
    "            if v2 in nodes:\n",
    "                nodes[v2].add(v1)\n",
    "            else:\n",
    "                nodes[v2] = {v1}\n",
    "            cns = nodes[v1].intersection(nodes[v2])\n",
    "\n",
    "            for u in cns:\n",
    "                if u < v1:\n",
    "                    edges[(u, v1)] += 1\n",
    "                else:\n",
    "                    edges[(v1, u)] += 1\n",
    "                if u < v2:\n",
    "                    edges[(u, v2)] += 1\n",
    "                else:\n",
    "                    edges[(v2, u)] += 1\n",
    "\n",
    "            if v1 < v2:\n",
    "                edges[(v1, v2)] = len(cns)\n",
    "            else:\n",
    "                edges[(v2, v1)] = len(cns)\n",
    "    edges_temp = edges\n",
    "    edges = {k: v for k, v in sorted(edges_temp.items(), key=lambda item: -item[1])[\n",
    "                              :int(len(edges_temp) * 0.1)]}\n",
    "    triangles = {k: v for k, v in sorted(edges_temp.items(), key=lambda item: -item[1])[\n",
    "                                  :int(len(edges_temp))]}\n",
    "    cnt = 0\n",
    "    for m in triangles.values():\n",
    "        cnt += m\n",
    "\n",
    "    return edges, cnt / 3, len(data)"
   ],
   "metadata": {
    "collapsed": false,
    "pycharm": {
     "name": "#%%\n"
    }
   }
  },
  {
   "cell_type": "code",
   "execution_count": 5,
   "metadata": {
    "pycharm": {
     "name": "#%%\n"
    }
   },
   "outputs": [],
   "source": [
    "def update_subgraph(subgraph, v1, v2):\n",
    "    if v1 in subgraph:\n",
    "        subgraph[v1].add(v2)\n",
    "    else:\n",
    "        subgraph[v1] = {v2}\n",
    "    if v2 in subgraph:\n",
    "        subgraph[v2].add(v1)\n",
    "    else:\n",
    "        subgraph[v2] = {v1}"
   ]
  },
  {
   "cell_type": "code",
   "execution_count": 6,
   "outputs": [],
   "source": [
    "from statistics import mean\n",
    "from datetime import datetime\n",
    "\n",
    "def arbitrary_order(file, p, space_limit, heavy_space, oracle, evict_light=True):\n",
    "    start = datetime.now()\n",
    "    space_used,l1 ,l2 ,l3 = 0,0,0,0\n",
    "    subgraph = {}\n",
    "    early_edges,light_edges,heavy_edges = set(),set(),set()\n",
    "    heavy_queue = PriorityQueue()\n",
    "    edge_dup = []\n",
    "\n",
    "    file = open(file, 'r')\n",
    "    dataset = file.read()\n",
    "    data = dataset.split(\"\\n\")\n",
    "    data = [x for x in data if \"#\" not in x]\n",
    "    data = data[:-1]\n",
    "    for d in data:\n",
    "        t = d.split(\"\\t\")\n",
    "\n",
    "        v1 = int(d.split(\"\\t\")[0])\n",
    "        v2 = int(d.split(\"\\t\")[1])\n",
    "\n",
    "        edge_dup.append((v1, v2))\n",
    "\n",
    "        if (v2, v1) in edge_dup:\n",
    "            continue\n",
    "\n",
    "        edge = tuple(sorted((v1, v2)))\n",
    "\n",
    "        if (v1 in subgraph) and (v2 in subgraph):\n",
    "            wedge_nodes = subgraph[v1].intersection(subgraph[v2])\n",
    "\n",
    "            for node in wedge_nodes:\n",
    "\n",
    "                key0 = tuple(sorted((node, v1)))\n",
    "                key1 = tuple(sorted((node, v2)))\n",
    "\n",
    "                n_d = 0\n",
    "                if key0 in early_edges or key0 in heavy_edges:\n",
    "                    n_d += 1\n",
    "                if key1 in early_edges or key1 in heavy_edges:\n",
    "                    n_d += 1\n",
    "\n",
    "                if n_d == 2:\n",
    "                    l3 += 1\n",
    "                elif n_d == 1:\n",
    "                    l2 += 1\n",
    "                else:\n",
    "                    l1 += 1\n",
    "\n",
    "        if len(heavy_edges) < heavy_space:\n",
    "            update_subgraph(subgraph, v1, v2)\n",
    "            heavy_edges.add(edge)\n",
    "            pred_triangles = 0\n",
    "            if edge in oracle:\n",
    "                pred_triangles = oracle[edge]\n",
    "            heavy_queue.put((pred_triangles, edge))\n",
    "            space_used += 1\n",
    "            continue\n",
    "\n",
    "        smallest_elem = heavy_queue.get()\n",
    "        if edge in oracle and oracle[edge] > smallest_elem[0]:\n",
    "            update_subgraph(subgraph, v1, v2)\n",
    "            heavy_edges.add(edge)\n",
    "            heavy_queue.put((oracle[edge], edge))\n",
    "            old_edge = smallest_elem[1]\n",
    "            heavy_edges.remove(old_edge)\n",
    "            if space_used < space_limit:\n",
    "                early_edges.add(old_edge)\n",
    "                space_used += 1\n",
    "            elif random.random() < p:\n",
    "                if len(early_edges) > 0:\n",
    "                    evicted = False\n",
    "                    while (len(early_edges) > 0) and (not evicted):\n",
    "                        edge_to_evict = early_edges.pop()\n",
    "                        if random.random() < p:\n",
    "                            light_edges.add(edge_to_evict)\n",
    "                        else:\n",
    "                            w1, w2 = edge_to_evict\n",
    "                            subgraph[w1].remove(w2)\n",
    "                            subgraph[w2].remove(w1)\n",
    "                            evicted = True\n",
    "                else:\n",
    "                    if evict_light:\n",
    "                        edge_to_evict = light_edges.pop()\n",
    "                        w1, w2 = edge_to_evict\n",
    "                        subgraph[w1].remove(w2)\n",
    "                        subgraph[w2].remove(w1)\n",
    "                    else:\n",
    "                        space_used += 1\n",
    "                light_edges.add(old_edge)\n",
    "            else:\n",
    "                w1, w2 = old_edge\n",
    "                subgraph[w1].remove(w2)\n",
    "                subgraph[w2].remove(w1)\n",
    "            continue\n",
    "        else:\n",
    "            heavy_queue.put(smallest_elem)\n",
    "\n",
    "        if space_used < space_limit:\n",
    "            update_subgraph(subgraph, v1, v2)\n",
    "            early_edges.add(edge)\n",
    "            space_used += 1\n",
    "            continue\n",
    "\n",
    "        elif random.random() < p:\n",
    "            if len(early_edges) > 0:\n",
    "                evicted = False\n",
    "                while (len(early_edges) > 0) and (not evicted):\n",
    "                    edge_to_evict = early_edges.pop()\n",
    "                    if random.random() < p:\n",
    "                        light_edges.add(edge_to_evict)\n",
    "                    else:\n",
    "                        w1, w2 = edge_to_evict\n",
    "                        subgraph[w1].remove(w2)\n",
    "                        subgraph[w2].remove(w1)\n",
    "                        evicted = True\n",
    "            else:\n",
    "                if evict_light:\n",
    "                    edge_to_evict = light_edges.pop()\n",
    "                    w1, w2 = edge_to_evict\n",
    "                    subgraph[w1].remove(w2)\n",
    "                    subgraph[w2].remove(w1)\n",
    "                else:\n",
    "                    space_used += 1\n",
    "\n",
    "            update_subgraph(subgraph, v1, v2)\n",
    "            light_edges.add(edge)\n",
    "    tc = len(early_edges),len(light_edges),len(heavy_edges )\n",
    "    return (l1 / (p ** 2) + l2 / p + l3),mean(tc),(datetime.now()-start)\n",
    "\n"
   ],
   "metadata": {
    "collapsed": false,
    "pycharm": {
     "name": "#%%\n"
    }
   }
  },
  {
   "cell_type": "code",
   "execution_count": 7,
   "outputs": [],
   "source": [
    "testListOregon = []\n",
    "trainListOregon = []\n",
    "\n",
    "testListCaida2006 = []\n",
    "trainListCaida2006 = []\n",
    "\n",
    "testListCaida2007 = []\n",
    "trainListCaida2007 = []\n",
    "from sklearn.metrics import mean_squared_error\n",
    "def predict_triangle2(train,test):\n",
    "    edges = my_oracle(test)\n",
    "    true_triangle = edges[1]\n",
    "    true_m = edges[2]\n",
    "    frac = 0.3\n",
    "    heavy_space = int(frac * true_triangle)\n",
    "    p = (true_triangle - heavy_space) / (true_m - heavy_space)\n",
    "    predicted = arbitrary_order(test, p, true_triangle, heavy_space, my_oracle(train))\n",
    "\n",
    "    if \"oregon\" in test:\n",
    "        testListOregon.append(true_triangle)\n",
    "        trainListOregon.append(int(predicted[0]))\n",
    "    if \"2006\" in test:\n",
    "        testListCaida2006.append(true_triangle)\n",
    "        trainListCaida2006.append(int(predicted[0]))\n",
    "    if \"2007\" in test:\n",
    "        testListCaida2007.append(true_triangle)\n",
    "        trainListCaida2007.append(int(predicted[0]))\n",
    "\n",
    "    err = abs((predicted[0]-true_triangle)/100)\n",
    "    print(\"number of triangle for\", test, true_triangle, \", predicted:\", int(predicted[0]), \", Space Complexity:\",int(predicted[1]),\", Runtime:\",predicted[2],\", Error: \", round(err,3))"
   ],
   "metadata": {
    "collapsed": false,
    "pycharm": {
     "name": "#%%\n"
    }
   }
  },
  {
   "cell_type": "code",
   "execution_count": 8,
   "outputs": [
    {
     "name": "stdout",
     "output_type": "stream",
     "text": [
      "number of triangle for dataset/oregon1_010414.txt 18237.0 , predicted: 18214 , Space Complexity: 6079 , Runtime: 0:00:03.185761 , Error:  0.227\n",
      "number of triangle for dataset/oregon1_010421.txt 19108.0 , predicted: 19007 , Space Complexity: 6369 , Runtime: 0:00:03.151645 , Error:  1.009\n",
      "number of triangle for dataset/oregon1_010512.txt 17598.0 , predicted: 17584 , Space Complexity: 5866 , Runtime: 0:00:03.254089 , Error:  0.133\n",
      "number of triangle for dataset/oregon1_010526.txt 19894.0 , predicted: 19866 , Space Complexity: 6631 , Runtime: 0:00:03.563987 , Error:  0.279\n",
      "\n",
      "number of triangle for dataset/as-caida20060109.txt 30689.0 , predicted: 30147 , Space Complexity: 10229 , Runtime: 0:00:29.956339 , Error:  5.413\n",
      "number of triangle for dataset/as-caida20060116.txt 30884.0 , predicted: 32969 , Space Complexity: 10294 , Runtime: 0:00:33.561539 , Error:  20.851\n",
      "number of triangle for dataset/as-caida20060123.txt 28418.0 , predicted: 28818 , Space Complexity: 9472 , Runtime: 0:00:30.938262 , Error:  4.001\n",
      "number of triangle for dataset/as-caida20060130.txt 32692.0 , predicted: 33365 , Space Complexity: 10897 , Runtime: 0:00:32.662789 , Error:  6.736\n",
      "\n",
      "number of triangle for dataset/as-caida20070108.txt 40772.0 , predicted: 40223 , Space Complexity: 13590 , Runtime: 0:00:44.437372 , Error:  5.484\n",
      "number of triangle for dataset/as-caida20070115.txt 40292.0 , predicted: 40446 , Space Complexity: 13430 , Runtime: 0:00:43.626018 , Error:  1.545\n",
      "number of triangle for dataset/as-caida20070122.txt 38905.0 , predicted: 39436 , Space Complexity: 12968 , Runtime: 0:00:43.120333 , Error:  5.313\n",
      "number of triangle for dataset/as-caida20070129.txt 36674.0 , predicted: 37282 , Space Complexity: 12224 , Runtime: 0:00:34.787339 , Error:  6.089\n"
     ]
    }
   ],
   "source": [
    "predict_triangle2(oregon_first,oregon_second)\n",
    "predict_triangle2(oregon_first,oregon_third)\n",
    "predict_triangle2(oregon_first,oregon_fourth)\n",
    "predict_triangle2(oregon_first,oregon_fifth)\n",
    "print()\n",
    "predict_triangle2(caida_2006_first,caida_2006_second)\n",
    "predict_triangle2(caida_2006_first,caida_2006_third)\n",
    "predict_triangle2(caida_2006_first,caida_2006_fourth)\n",
    "predict_triangle2(caida_2006_first,caida_2006_fifth)\n",
    "print()\n",
    "predict_triangle2(caida_2007_first,caida_2007_second)\n",
    "predict_triangle2(caida_2007_first,caida_2007_third)\n",
    "predict_triangle2(caida_2007_first,caida_2007_fourth)\n",
    "predict_triangle2(caida_2007_first,caida_2007_fifth)"
   ],
   "metadata": {
    "collapsed": false,
    "pycharm": {
     "name": "#%%\n"
    }
   }
  },
  {
   "cell_type": "code",
   "execution_count": 9,
   "outputs": [
    {
     "data": {
      "text/plain": "Text(0, 0.5, 'number  of triangle')"
     },
     "execution_count": 9,
     "metadata": {},
     "output_type": "execute_result"
    },
    {
     "data": {
      "text/plain": "<Figure size 432x288 with 1 Axes>",
      "image/png": "[encoded data removed]"
     },
     "metadata": {
      "needs_background": "light"
     },
     "output_type": "display_data"
    }
   ],
   "source": [
    "plt.plot(trainListOregon, 'o-')\n",
    "plt.plot(testListOregon)\n",
    "plt.title('train and test of Oregons data')\n",
    "plt.xlabel('number  of test')\n",
    "plt.ylabel('number  of triangle')"
   ],
   "metadata": {
    "collapsed": false,
    "pycharm": {
     "name": "#%%\n"
    }
   }
  },
  {
   "cell_type": "code",
   "execution_count": 10,
   "outputs": [
    {
     "data": {
      "text/plain": "Text(0, 0.5, 'number  of triangle')"
     },
     "execution_count": 10,
     "metadata": {},
     "output_type": "execute_result"
    },
    {
     "data": {
      "text/plain": "<Figure size 432x288 with 1 Axes>",
      "image/png": "[encoded data removed]"
     },
     "metadata": {
      "needs_background": "light"
     },
     "output_type": "display_data"
    }
   ],
   "source": [
    "plt.plot(trainListCaida2006, 'o-')\n",
    "plt.plot(testListCaida2006)\n",
    "plt.title('train and test of Caida 2006 data')\n",
    "plt.xlabel('number  of test')\n",
    "plt.ylabel('number  of triangle')"
   ],
   "metadata": {
    "collapsed": false,
    "pycharm": {
     "name": "#%%\n"
    }
   }
  },
  {
   "cell_type": "code",
   "execution_count": 11,
   "outputs": [
    {
     "data": {
      "text/plain": "Text(0, 0.5, 'number  of triangle')"
     },
     "execution_count": 11,
     "metadata": {},
     "output_type": "execute_result"
    },
    {
     "data": {
      "text/plain": "<Figure size 432x288 with 1 Axes>",
      "image/png": "[encoded data removed]"
     },
     "metadata": {
      "needs_background": "light"
     },
     "output_type": "display_data"
    }
   ],
   "source": [
    "plt.plot(trainListCaida2007, 'o-')\n",
    "plt.plot(testListCaida2007)\n",
    "plt.title('train and test of Caida 2007 data')\n",
    "plt.xlabel('number  of test')\n",
    "plt.ylabel('number  of triangle')"
   ],
   "metadata": {
    "collapsed": false,
    "pycharm": {
     "name": "#%%\n"
    }
   }
  }
 ],
 "metadata": {
  "kernelspec": {
   "display_name": "Python 3 (ipykernel)",
   "language": "python",
   "name": "python3"
  },
  "language_info": {
   "codemirror_mode": {
    "name": "ipython",
    "version": 3
   },
   "file_extension": ".py",
   "mimetype": "text/x-python",
   "name": "python",
   "nbconvert_exporter": "python",
   "pygments_lexer": "ipython3",
   "version": "3.9.13"
  }
 },
 "nbformat": 4,
 "nbformat_minor": 1
}