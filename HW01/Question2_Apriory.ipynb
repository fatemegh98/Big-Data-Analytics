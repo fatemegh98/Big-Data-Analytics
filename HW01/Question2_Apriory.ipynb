{
  "nbformat": 4,
  "nbformat_minor": 0,
  "metadata": {
    "colab": {
      "name": "Question2-Apriory.ipynb",
      "provenance": []
    },
    "kernelspec": {
      "name": "python3",
      "display_name": "Python 3"
    },
    "language_info": {
      "name": "python"
    }
  },
  "cells": [
    {
      "cell_type": "code",
      "execution_count": null,
      "metadata": {
        "id": "LWylUgAnEiqQ"
      },
      "outputs": [],
      "source": [
        "import csv\n",
        "import numpy as np\n",
        "import pandas as pd\n",
        "from itertools import combinations"
      ]
    },
    {
      "cell_type": "code",
      "source": [
        "def create_candidate_1(X):\n",
        "    \"\"\"\n",
        "    create the 1-item candidate,\n",
        "    it's basically creating a frozenset for each unique item\n",
        "    and storing them in a list\n",
        "    \"\"\"\n",
        "    c1 = []\n",
        "    for transaction in X:\n",
        "        for t in transaction:\n",
        "            t = frozenset([t])\n",
        "            if t not in c1:\n",
        "                c1.append(t)\n",
        "    return c1"
      ],
      "metadata": {
        "id": "g0zTBd6oNnix"
      },
      "execution_count": null,
      "outputs": []
    },
    {
      "cell_type": "code",
      "source": [
        "def create_candidate_k(freq_item, k):\n",
        "    \"\"\"create the list of k-item candidate\"\"\"\n",
        "    ck = []\n",
        "\n",
        "    # for generating candidate of size two (2-itemset)\n",
        "    if k == 0:\n",
        "        for f1, f2 in combinations(freq_item, 2):\n",
        "            item = f1 | f2  # union of two sets\n",
        "            ck.append(item)\n",
        "    else:\n",
        "        for f1, f2 in combinations(freq_item, 2):\n",
        "            # if the two (k+1)-item sets has\n",
        "            # k common elements then they will be\n",
        "            # unioned to be the (k+2)-item candidate\n",
        "            intersection = f1 & f2\n",
        "            if len(intersection) == k:\n",
        "                item = f1 | f2\n",
        "                if item not in ck:\n",
        "                    ck.append(item)\n",
        "    return ck"
      ],
      "metadata": {
        "id": "3cWGmjK-Nrha"
      },
      "execution_count": null,
      "outputs": []
    },
    {
      "cell_type": "code",
      "source": [
        "def create_freq_item(X, ck, min_support):\n",
        "    \"\"\"\n",
        "    filters the candidate with the specified\n",
        "    minimum support\n",
        "    \"\"\"\n",
        "    # loop through the transaction and compute\n",
        "    # the count for each candidate (item)\n",
        "    item_count = {}\n",
        "    for transaction in X:\n",
        "        for item in ck:\n",
        "            if item.issubset(transaction):\n",
        "                if item not in item_count:\n",
        "                    item_count[item] = 1\n",
        "                else:\n",
        "                    item_count[item] += 1\n",
        "\n",
        "    n_row = X.shape[0]\n",
        "    freq_item = []\n",
        "    item_support = {}\n",
        "\n",
        "    # if the support of an item is greater than the\n",
        "    # min_support, then it is considered as frequent\n",
        "    for item in item_count:\n",
        "        support = item_count[item] / n_row\n",
        "        if support >= min_support:\n",
        "            freq_item.append(item)\n",
        "\n",
        "        item_support[item] = item_count[item]\n",
        "\n",
        "    return freq_item, item_support"
      ],
      "metadata": {
        "id": "Iib80AkZNvxd"
      },
      "execution_count": null,
      "outputs": []
    },
    {
      "cell_type": "code",
      "source": [
        "def apriori(X, min_support):\n",
        "    \"\"\"\n",
        "    pass in the transaction data and the minimum support\n",
        "    threshold to obtain the frequent itemset. Also\n",
        "    store the support for each itemset, they will\n",
        "    be used in the rule generation step\n",
        "    \"\"\"\n",
        "\n",
        "    # the candidate sets for the 1-item is different,\n",
        "    # create them independently from others\n",
        "    c1 = create_candidate_1(X)\n",
        "    freq_item, item_support_dict = create_freq_item(X, c1, min_support)\n",
        "    freq_items = [freq_item]\n",
        "\n",
        "    k = 0\n",
        "    while len(freq_items[k]) > 0:\n",
        "        freq_item = freq_items[k]\n",
        "        ck = create_candidate_k(freq_item, k)\n",
        "        freq_item, item_support = create_freq_item(X, ck, min_support)\n",
        "        if(k==0):\n",
        "            with open('output.txt','w') as f:\n",
        "                for k, v in item_support.items():\n",
        "                    # print(str(list(k)) + str(v))\n",
        "                    if(v>=100):\n",
        "                      f.write(\"itemset: \"+(str(list(k))) + \" count: \"+(str(v))+\"\\n\")\n",
        "\n",
        "            break\n",
        "        freq_items.append(freq_item)\n",
        "        item_support_dict.update(item_support)\n",
        "        k += 1\n",
        "\n",
        "    return freq_items, item_support_dict"
      ],
      "metadata": {
        "id": "esMQ4mpTN6Zt"
      },
      "execution_count": null,
      "outputs": []
    },
    {
      "cell_type": "code",
      "source": [
        "trans = []\n",
        "with open('/content/games_library.txt') as f:\n",
        "    contents = f.readlines()\n",
        "    for i in contents:\n",
        "        trans.append(i.split())\n",
        "trans[0]"
      ],
      "metadata": {
        "colab": {
          "base_uri": "https://localhost:8080/"
        },
        "id": "r7KQpBktOHhO",
        "outputId": "899be038-67bd-4829-8eae-296addfe6166"
      },
      "execution_count": null,
      "outputs": [
        {
          "output_type": "execute_result",
          "data": {
            "text/plain": [
              "['Far_Cry_6',\n",
              " 'God_of_War',\n",
              " 'Gran_Turismo_7',\n",
              " 'GTA_V',\n",
              " 'Ghost_of_Tsushima',\n",
              " 'FIFA_22',\n",
              " 'UNCHARTED_4',\n",
              " 'A_Way_Out',\n",
              " 'Death_Stranding',\n",
              " 'The_Last_of_Us_Part_II',\n",
              " 'It_Takes_Two']"
            ]
          },
          "metadata": {},
          "execution_count": 6
        }
      ]
    },
    {
      "cell_type": "code",
      "source": [
        "c1 = create_candidate_1(trans)\n",
        "c1"
      ],
      "metadata": {
        "colab": {
          "base_uri": "https://localhost:8080/"
        },
        "id": "Mh_JPNeCOSte",
        "outputId": "58c651f8-b2e5-4998-cf93-495f912ea6d5"
      },
      "execution_count": null,
      "outputs": [
        {
          "output_type": "execute_result",
          "data": {
            "text/plain": [
              "[frozenset({'Far_Cry_6'}),\n",
              " frozenset({'God_of_War'}),\n",
              " frozenset({'Gran_Turismo_7'}),\n",
              " frozenset({'GTA_V'}),\n",
              " frozenset({'Ghost_of_Tsushima'}),\n",
              " frozenset({'FIFA_22'}),\n",
              " frozenset({'UNCHARTED_4'}),\n",
              " frozenset({'A_Way_Out'}),\n",
              " frozenset({'Death_Stranding'}),\n",
              " frozenset({'The_Last_of_Us_Part_II'}),\n",
              " frozenset({'It_Takes_Two'}),\n",
              " frozenset({'Dying_Light_2'}),\n",
              " frozenset({\"Assassin's_Creed_Odyssey\"}),\n",
              " frozenset({'DAYS_GONE'}),\n",
              " frozenset({'Spider-Man:Miles_Morales'}),\n",
              " frozenset({'Red_Dead_Redemption_2'}),\n",
              " frozenset({'ARK:Survival_Evolved'}),\n",
              " frozenset({'MAFIA_Trilogy'}),\n",
              " frozenset({'Control'}),\n",
              " frozenset({'Horizon_Forbidden_West'})]"
            ]
          },
          "metadata": {},
          "execution_count": 8
        }
      ]
    },
    {
      "cell_type": "code",
      "source": [
        "trans=np.array(trans)"
      ],
      "metadata": {
        "colab": {
          "base_uri": "https://localhost:8080/"
        },
        "id": "2R64nGdSOZf-",
        "outputId": "c7d53d2f-c25d-41ab-a4eb-4889e53d2f8b"
      },
      "execution_count": null,
      "outputs": [
        {
          "output_type": "stream",
          "name": "stderr",
          "text": [
            "/usr/local/lib/python3.7/dist-packages/ipykernel_launcher.py:1: VisibleDeprecationWarning: Creating an ndarray from ragged nested sequences (which is a list-or-tuple of lists-or-tuples-or ndarrays with different lengths or shapes) is deprecated. If you meant to do this, you must specify 'dtype=object' when creating the ndarray.\n",
            "  \"\"\"Entry point for launching an IPython kernel.\n"
          ]
        }
      ]
    },
    {
      "cell_type": "code",
      "source": [
        "freq_item, item_support_dict = create_freq_item(trans, c1, 0.003)"
      ],
      "metadata": {
        "id": "SLSBzadJOed8"
      },
      "execution_count": null,
      "outputs": []
    },
    {
      "cell_type": "code",
      "source": [
        "item_support_dict"
      ],
      "metadata": {
        "colab": {
          "base_uri": "https://localhost:8080/"
        },
        "id": "tu7D8deUOpT_",
        "outputId": "fa727ff8-e7c3-4e7f-f72c-f0e7c70eeafa"
      },
      "execution_count": null,
      "outputs": [
        {
          "output_type": "execute_result",
          "data": {
            "text/plain": [
              "{frozenset({'Far_Cry_6'}): 19549,\n",
              " frozenset({'God_of_War'}): 32390,\n",
              " frozenset({'Gran_Turismo_7'}): 19667,\n",
              " frozenset({'GTA_V'}): 32581,\n",
              " frozenset({'Ghost_of_Tsushima'}): 19639,\n",
              " frozenset({'FIFA_22'}): 32457,\n",
              " frozenset({'UNCHARTED_4'}): 32583,\n",
              " frozenset({'A_Way_Out'}): 19709,\n",
              " frozenset({'Death_Stranding'}): 19689,\n",
              " frozenset({'The_Last_of_Us_Part_II'}): 32583,\n",
              " frozenset({'It_Takes_Two'}): 19808,\n",
              " frozenset({'Dying_Light_2'}): 19652,\n",
              " frozenset({\"Assassin's_Creed_Odyssey\"}): 19700,\n",
              " frozenset({'DAYS_GONE'}): 19838,\n",
              " frozenset({'Spider-Man:Miles_Morales'}): 19819,\n",
              " frozenset({'Red_Dead_Redemption_2'}): 19756,\n",
              " frozenset({'ARK:Survival_Evolved'}): 19587,\n",
              " frozenset({'MAFIA_Trilogy'}): 19782,\n",
              " frozenset({'Control'}): 19653,\n",
              " frozenset({'Horizon_Forbidden_West'}): 19788}"
            ]
          },
          "metadata": {},
          "execution_count": 11
        }
      ]
    },
    {
      "cell_type": "code",
      "source": [
        "ck = create_candidate_k(freq_item, 0)\n",
        "ck"
      ],
      "metadata": {
        "colab": {
          "base_uri": "https://localhost:8080/"
        },
        "id": "d1m5njfZOz-F",
        "outputId": "7e45944b-7bf0-44ea-a40f-581f5753062e"
      },
      "execution_count": null,
      "outputs": [
        {
          "output_type": "execute_result",
          "data": {
            "text/plain": [
              "[frozenset({'Far_Cry_6', 'God_of_War'}),\n",
              " frozenset({'Far_Cry_6', 'Gran_Turismo_7'}),\n",
              " frozenset({'Far_Cry_6', 'GTA_V'}),\n",
              " frozenset({'Far_Cry_6', 'Ghost_of_Tsushima'}),\n",
              " frozenset({'FIFA_22', 'Far_Cry_6'}),\n",
              " frozenset({'Far_Cry_6', 'UNCHARTED_4'}),\n",
              " frozenset({'A_Way_Out', 'Far_Cry_6'}),\n",
              " frozenset({'Death_Stranding', 'Far_Cry_6'}),\n",
              " frozenset({'Far_Cry_6', 'The_Last_of_Us_Part_II'}),\n",
              " frozenset({'Far_Cry_6', 'It_Takes_Two'}),\n",
              " frozenset({'Dying_Light_2', 'Far_Cry_6'}),\n",
              " frozenset({\"Assassin's_Creed_Odyssey\", 'Far_Cry_6'}),\n",
              " frozenset({'DAYS_GONE', 'Far_Cry_6'}),\n",
              " frozenset({'Far_Cry_6', 'Spider-Man:Miles_Morales'}),\n",
              " frozenset({'Far_Cry_6', 'Red_Dead_Redemption_2'}),\n",
              " frozenset({'ARK:Survival_Evolved', 'Far_Cry_6'}),\n",
              " frozenset({'Far_Cry_6', 'MAFIA_Trilogy'}),\n",
              " frozenset({'Control', 'Far_Cry_6'}),\n",
              " frozenset({'Far_Cry_6', 'Horizon_Forbidden_West'}),\n",
              " frozenset({'God_of_War', 'Gran_Turismo_7'}),\n",
              " frozenset({'GTA_V', 'God_of_War'}),\n",
              " frozenset({'Ghost_of_Tsushima', 'God_of_War'}),\n",
              " frozenset({'FIFA_22', 'God_of_War'}),\n",
              " frozenset({'God_of_War', 'UNCHARTED_4'}),\n",
              " frozenset({'A_Way_Out', 'God_of_War'}),\n",
              " frozenset({'Death_Stranding', 'God_of_War'}),\n",
              " frozenset({'God_of_War', 'The_Last_of_Us_Part_II'}),\n",
              " frozenset({'God_of_War', 'It_Takes_Two'}),\n",
              " frozenset({'Dying_Light_2', 'God_of_War'}),\n",
              " frozenset({\"Assassin's_Creed_Odyssey\", 'God_of_War'}),\n",
              " frozenset({'DAYS_GONE', 'God_of_War'}),\n",
              " frozenset({'God_of_War', 'Spider-Man:Miles_Morales'}),\n",
              " frozenset({'God_of_War', 'Red_Dead_Redemption_2'}),\n",
              " frozenset({'ARK:Survival_Evolved', 'God_of_War'}),\n",
              " frozenset({'God_of_War', 'MAFIA_Trilogy'}),\n",
              " frozenset({'Control', 'God_of_War'}),\n",
              " frozenset({'God_of_War', 'Horizon_Forbidden_West'}),\n",
              " frozenset({'GTA_V', 'Gran_Turismo_7'}),\n",
              " frozenset({'Ghost_of_Tsushima', 'Gran_Turismo_7'}),\n",
              " frozenset({'FIFA_22', 'Gran_Turismo_7'}),\n",
              " frozenset({'Gran_Turismo_7', 'UNCHARTED_4'}),\n",
              " frozenset({'A_Way_Out', 'Gran_Turismo_7'}),\n",
              " frozenset({'Death_Stranding', 'Gran_Turismo_7'}),\n",
              " frozenset({'Gran_Turismo_7', 'The_Last_of_Us_Part_II'}),\n",
              " frozenset({'Gran_Turismo_7', 'It_Takes_Two'}),\n",
              " frozenset({'Dying_Light_2', 'Gran_Turismo_7'}),\n",
              " frozenset({\"Assassin's_Creed_Odyssey\", 'Gran_Turismo_7'}),\n",
              " frozenset({'DAYS_GONE', 'Gran_Turismo_7'}),\n",
              " frozenset({'Gran_Turismo_7', 'Spider-Man:Miles_Morales'}),\n",
              " frozenset({'Gran_Turismo_7', 'Red_Dead_Redemption_2'}),\n",
              " frozenset({'ARK:Survival_Evolved', 'Gran_Turismo_7'}),\n",
              " frozenset({'Gran_Turismo_7', 'MAFIA_Trilogy'}),\n",
              " frozenset({'Control', 'Gran_Turismo_7'}),\n",
              " frozenset({'Gran_Turismo_7', 'Horizon_Forbidden_West'}),\n",
              " frozenset({'GTA_V', 'Ghost_of_Tsushima'}),\n",
              " frozenset({'FIFA_22', 'GTA_V'}),\n",
              " frozenset({'GTA_V', 'UNCHARTED_4'}),\n",
              " frozenset({'A_Way_Out', 'GTA_V'}),\n",
              " frozenset({'Death_Stranding', 'GTA_V'}),\n",
              " frozenset({'GTA_V', 'The_Last_of_Us_Part_II'}),\n",
              " frozenset({'GTA_V', 'It_Takes_Two'}),\n",
              " frozenset({'Dying_Light_2', 'GTA_V'}),\n",
              " frozenset({\"Assassin's_Creed_Odyssey\", 'GTA_V'}),\n",
              " frozenset({'DAYS_GONE', 'GTA_V'}),\n",
              " frozenset({'GTA_V', 'Spider-Man:Miles_Morales'}),\n",
              " frozenset({'GTA_V', 'Red_Dead_Redemption_2'}),\n",
              " frozenset({'ARK:Survival_Evolved', 'GTA_V'}),\n",
              " frozenset({'GTA_V', 'MAFIA_Trilogy'}),\n",
              " frozenset({'Control', 'GTA_V'}),\n",
              " frozenset({'GTA_V', 'Horizon_Forbidden_West'}),\n",
              " frozenset({'FIFA_22', 'Ghost_of_Tsushima'}),\n",
              " frozenset({'Ghost_of_Tsushima', 'UNCHARTED_4'}),\n",
              " frozenset({'A_Way_Out', 'Ghost_of_Tsushima'}),\n",
              " frozenset({'Death_Stranding', 'Ghost_of_Tsushima'}),\n",
              " frozenset({'Ghost_of_Tsushima', 'The_Last_of_Us_Part_II'}),\n",
              " frozenset({'Ghost_of_Tsushima', 'It_Takes_Two'}),\n",
              " frozenset({'Dying_Light_2', 'Ghost_of_Tsushima'}),\n",
              " frozenset({\"Assassin's_Creed_Odyssey\", 'Ghost_of_Tsushima'}),\n",
              " frozenset({'DAYS_GONE', 'Ghost_of_Tsushima'}),\n",
              " frozenset({'Ghost_of_Tsushima', 'Spider-Man:Miles_Morales'}),\n",
              " frozenset({'Ghost_of_Tsushima', 'Red_Dead_Redemption_2'}),\n",
              " frozenset({'ARK:Survival_Evolved', 'Ghost_of_Tsushima'}),\n",
              " frozenset({'Ghost_of_Tsushima', 'MAFIA_Trilogy'}),\n",
              " frozenset({'Control', 'Ghost_of_Tsushima'}),\n",
              " frozenset({'Ghost_of_Tsushima', 'Horizon_Forbidden_West'}),\n",
              " frozenset({'FIFA_22', 'UNCHARTED_4'}),\n",
              " frozenset({'A_Way_Out', 'FIFA_22'}),\n",
              " frozenset({'Death_Stranding', 'FIFA_22'}),\n",
              " frozenset({'FIFA_22', 'The_Last_of_Us_Part_II'}),\n",
              " frozenset({'FIFA_22', 'It_Takes_Two'}),\n",
              " frozenset({'Dying_Light_2', 'FIFA_22'}),\n",
              " frozenset({\"Assassin's_Creed_Odyssey\", 'FIFA_22'}),\n",
              " frozenset({'DAYS_GONE', 'FIFA_22'}),\n",
              " frozenset({'FIFA_22', 'Spider-Man:Miles_Morales'}),\n",
              " frozenset({'FIFA_22', 'Red_Dead_Redemption_2'}),\n",
              " frozenset({'ARK:Survival_Evolved', 'FIFA_22'}),\n",
              " frozenset({'FIFA_22', 'MAFIA_Trilogy'}),\n",
              " frozenset({'Control', 'FIFA_22'}),\n",
              " frozenset({'FIFA_22', 'Horizon_Forbidden_West'}),\n",
              " frozenset({'A_Way_Out', 'UNCHARTED_4'}),\n",
              " frozenset({'Death_Stranding', 'UNCHARTED_4'}),\n",
              " frozenset({'The_Last_of_Us_Part_II', 'UNCHARTED_4'}),\n",
              " frozenset({'It_Takes_Two', 'UNCHARTED_4'}),\n",
              " frozenset({'Dying_Light_2', 'UNCHARTED_4'}),\n",
              " frozenset({\"Assassin's_Creed_Odyssey\", 'UNCHARTED_4'}),\n",
              " frozenset({'DAYS_GONE', 'UNCHARTED_4'}),\n",
              " frozenset({'Spider-Man:Miles_Morales', 'UNCHARTED_4'}),\n",
              " frozenset({'Red_Dead_Redemption_2', 'UNCHARTED_4'}),\n",
              " frozenset({'ARK:Survival_Evolved', 'UNCHARTED_4'}),\n",
              " frozenset({'MAFIA_Trilogy', 'UNCHARTED_4'}),\n",
              " frozenset({'Control', 'UNCHARTED_4'}),\n",
              " frozenset({'Horizon_Forbidden_West', 'UNCHARTED_4'}),\n",
              " frozenset({'A_Way_Out', 'Death_Stranding'}),\n",
              " frozenset({'A_Way_Out', 'The_Last_of_Us_Part_II'}),\n",
              " frozenset({'A_Way_Out', 'It_Takes_Two'}),\n",
              " frozenset({'A_Way_Out', 'Dying_Light_2'}),\n",
              " frozenset({'A_Way_Out', \"Assassin's_Creed_Odyssey\"}),\n",
              " frozenset({'A_Way_Out', 'DAYS_GONE'}),\n",
              " frozenset({'A_Way_Out', 'Spider-Man:Miles_Morales'}),\n",
              " frozenset({'A_Way_Out', 'Red_Dead_Redemption_2'}),\n",
              " frozenset({'ARK:Survival_Evolved', 'A_Way_Out'}),\n",
              " frozenset({'A_Way_Out', 'MAFIA_Trilogy'}),\n",
              " frozenset({'A_Way_Out', 'Control'}),\n",
              " frozenset({'A_Way_Out', 'Horizon_Forbidden_West'}),\n",
              " frozenset({'Death_Stranding', 'The_Last_of_Us_Part_II'}),\n",
              " frozenset({'Death_Stranding', 'It_Takes_Two'}),\n",
              " frozenset({'Death_Stranding', 'Dying_Light_2'}),\n",
              " frozenset({\"Assassin's_Creed_Odyssey\", 'Death_Stranding'}),\n",
              " frozenset({'DAYS_GONE', 'Death_Stranding'}),\n",
              " frozenset({'Death_Stranding', 'Spider-Man:Miles_Morales'}),\n",
              " frozenset({'Death_Stranding', 'Red_Dead_Redemption_2'}),\n",
              " frozenset({'ARK:Survival_Evolved', 'Death_Stranding'}),\n",
              " frozenset({'Death_Stranding', 'MAFIA_Trilogy'}),\n",
              " frozenset({'Control', 'Death_Stranding'}),\n",
              " frozenset({'Death_Stranding', 'Horizon_Forbidden_West'}),\n",
              " frozenset({'It_Takes_Two', 'The_Last_of_Us_Part_II'}),\n",
              " frozenset({'Dying_Light_2', 'The_Last_of_Us_Part_II'}),\n",
              " frozenset({\"Assassin's_Creed_Odyssey\", 'The_Last_of_Us_Part_II'}),\n",
              " frozenset({'DAYS_GONE', 'The_Last_of_Us_Part_II'}),\n",
              " frozenset({'Spider-Man:Miles_Morales', 'The_Last_of_Us_Part_II'}),\n",
              " frozenset({'Red_Dead_Redemption_2', 'The_Last_of_Us_Part_II'}),\n",
              " frozenset({'ARK:Survival_Evolved', 'The_Last_of_Us_Part_II'}),\n",
              " frozenset({'MAFIA_Trilogy', 'The_Last_of_Us_Part_II'}),\n",
              " frozenset({'Control', 'The_Last_of_Us_Part_II'}),\n",
              " frozenset({'Horizon_Forbidden_West', 'The_Last_of_Us_Part_II'}),\n",
              " frozenset({'Dying_Light_2', 'It_Takes_Two'}),\n",
              " frozenset({\"Assassin's_Creed_Odyssey\", 'It_Takes_Two'}),\n",
              " frozenset({'DAYS_GONE', 'It_Takes_Two'}),\n",
              " frozenset({'It_Takes_Two', 'Spider-Man:Miles_Morales'}),\n",
              " frozenset({'It_Takes_Two', 'Red_Dead_Redemption_2'}),\n",
              " frozenset({'ARK:Survival_Evolved', 'It_Takes_Two'}),\n",
              " frozenset({'It_Takes_Two', 'MAFIA_Trilogy'}),\n",
              " frozenset({'Control', 'It_Takes_Two'}),\n",
              " frozenset({'Horizon_Forbidden_West', 'It_Takes_Two'}),\n",
              " frozenset({\"Assassin's_Creed_Odyssey\", 'Dying_Light_2'}),\n",
              " frozenset({'DAYS_GONE', 'Dying_Light_2'}),\n",
              " frozenset({'Dying_Light_2', 'Spider-Man:Miles_Morales'}),\n",
              " frozenset({'Dying_Light_2', 'Red_Dead_Redemption_2'}),\n",
              " frozenset({'ARK:Survival_Evolved', 'Dying_Light_2'}),\n",
              " frozenset({'Dying_Light_2', 'MAFIA_Trilogy'}),\n",
              " frozenset({'Control', 'Dying_Light_2'}),\n",
              " frozenset({'Dying_Light_2', 'Horizon_Forbidden_West'}),\n",
              " frozenset({\"Assassin's_Creed_Odyssey\", 'DAYS_GONE'}),\n",
              " frozenset({\"Assassin's_Creed_Odyssey\", 'Spider-Man:Miles_Morales'}),\n",
              " frozenset({\"Assassin's_Creed_Odyssey\", 'Red_Dead_Redemption_2'}),\n",
              " frozenset({'ARK:Survival_Evolved', \"Assassin's_Creed_Odyssey\"}),\n",
              " frozenset({\"Assassin's_Creed_Odyssey\", 'MAFIA_Trilogy'}),\n",
              " frozenset({\"Assassin's_Creed_Odyssey\", 'Control'}),\n",
              " frozenset({\"Assassin's_Creed_Odyssey\", 'Horizon_Forbidden_West'}),\n",
              " frozenset({'DAYS_GONE', 'Spider-Man:Miles_Morales'}),\n",
              " frozenset({'DAYS_GONE', 'Red_Dead_Redemption_2'}),\n",
              " frozenset({'ARK:Survival_Evolved', 'DAYS_GONE'}),\n",
              " frozenset({'DAYS_GONE', 'MAFIA_Trilogy'}),\n",
              " frozenset({'Control', 'DAYS_GONE'}),\n",
              " frozenset({'DAYS_GONE', 'Horizon_Forbidden_West'}),\n",
              " frozenset({'Red_Dead_Redemption_2', 'Spider-Man:Miles_Morales'}),\n",
              " frozenset({'ARK:Survival_Evolved', 'Spider-Man:Miles_Morales'}),\n",
              " frozenset({'MAFIA_Trilogy', 'Spider-Man:Miles_Morales'}),\n",
              " frozenset({'Control', 'Spider-Man:Miles_Morales'}),\n",
              " frozenset({'Horizon_Forbidden_West', 'Spider-Man:Miles_Morales'}),\n",
              " frozenset({'ARK:Survival_Evolved', 'Red_Dead_Redemption_2'}),\n",
              " frozenset({'MAFIA_Trilogy', 'Red_Dead_Redemption_2'}),\n",
              " frozenset({'Control', 'Red_Dead_Redemption_2'}),\n",
              " frozenset({'Horizon_Forbidden_West', 'Red_Dead_Redemption_2'}),\n",
              " frozenset({'ARK:Survival_Evolved', 'MAFIA_Trilogy'}),\n",
              " frozenset({'ARK:Survival_Evolved', 'Control'}),\n",
              " frozenset({'ARK:Survival_Evolved', 'Horizon_Forbidden_West'}),\n",
              " frozenset({'Control', 'MAFIA_Trilogy'}),\n",
              " frozenset({'Horizon_Forbidden_West', 'MAFIA_Trilogy'}),\n",
              " frozenset({'Control', 'Horizon_Forbidden_West'})]"
            ]
          },
          "metadata": {},
          "execution_count": 13
        }
      ]
    },
    {
      "cell_type": "code",
      "source": [
        "item_count = {}\n",
        "for transaction in trans:\n",
        "  for item in ck:\n",
        "    if item.issubset(transaction):\n",
        "      if item not in item_count:\n",
        "        item_count[item] = 1\n",
        "      else:\n",
        "        item_count[item] += 1"
      ],
      "metadata": {
        "id": "iIzAr2_aPAku"
      },
      "execution_count": null,
      "outputs": []
    },
    {
      "cell_type": "code",
      "source": [
        "item_count"
      ],
      "metadata": {
        "colab": {
          "base_uri": "https://localhost:8080/"
        },
        "id": "5fGHf8adPguG",
        "outputId": "ff65ef92-f7bd-4814-da1e-c8c8e0f73c35"
      },
      "execution_count": null,
      "outputs": [
        {
          "output_type": "execute_result",
          "data": {
            "text/plain": [
              "{frozenset({'Far_Cry_6', 'God_of_War'}): 17691,\n",
              " frozenset({'Far_Cry_6', 'Gran_Turismo_7'}): 12401,\n",
              " frozenset({'Far_Cry_6', 'GTA_V'}): 17776,\n",
              " frozenset({'Far_Cry_6', 'Ghost_of_Tsushima'}): 12349,\n",
              " frozenset({'FIFA_22', 'Far_Cry_6'}): 17758,\n",
              " frozenset({'Far_Cry_6', 'UNCHARTED_4'}): 17788,\n",
              " frozenset({'A_Way_Out', 'Far_Cry_6'}): 12455,\n",
              " frozenset({'Death_Stranding', 'Far_Cry_6'}): 12437,\n",
              " frozenset({'Far_Cry_6', 'The_Last_of_Us_Part_II'}): 17790,\n",
              " frozenset({'Far_Cry_6', 'It_Takes_Two'}): 12470,\n",
              " frozenset({'God_of_War', 'Gran_Turismo_7'}): 17873,\n",
              " frozenset({'GTA_V', 'God_of_War'}): 27881,\n",
              " frozenset({'Ghost_of_Tsushima', 'God_of_War'}): 17769,\n",
              " frozenset({'FIFA_22', 'God_of_War'}): 27842,\n",
              " frozenset({'God_of_War', 'UNCHARTED_4'}): 27953,\n",
              " frozenset({'A_Way_Out', 'God_of_War'}): 17905,\n",
              " frozenset({'Death_Stranding', 'God_of_War'}): 17818,\n",
              " frozenset({'God_of_War', 'The_Last_of_Us_Part_II'}): 27918,\n",
              " frozenset({'God_of_War', 'It_Takes_Two'}): 17920,\n",
              " frozenset({'GTA_V', 'Gran_Turismo_7'}): 17929,\n",
              " frozenset({'Ghost_of_Tsushima', 'Gran_Turismo_7'}): 12491,\n",
              " frozenset({'FIFA_22', 'Gran_Turismo_7'}): 17897,\n",
              " frozenset({'Gran_Turismo_7', 'UNCHARTED_4'}): 17861,\n",
              " frozenset({'A_Way_Out', 'Gran_Turismo_7'}): 12479,\n",
              " frozenset({'Death_Stranding', 'Gran_Turismo_7'}): 12487,\n",
              " frozenset({'Gran_Turismo_7', 'The_Last_of_Us_Part_II'}): 17922,\n",
              " frozenset({'Gran_Turismo_7', 'It_Takes_Two'}): 12539,\n",
              " frozenset({'GTA_V', 'Ghost_of_Tsushima'}): 17879,\n",
              " frozenset({'FIFA_22', 'GTA_V'}): 28007,\n",
              " frozenset({'GTA_V', 'UNCHARTED_4'}): 28062,\n",
              " frozenset({'A_Way_Out', 'GTA_V'}): 17930,\n",
              " frozenset({'Death_Stranding', 'GTA_V'}): 17906,\n",
              " frozenset({'GTA_V', 'The_Last_of_Us_Part_II'}): 28100,\n",
              " frozenset({'GTA_V', 'It_Takes_Two'}): 17950,\n",
              " frozenset({'FIFA_22', 'Ghost_of_Tsushima'}): 17866,\n",
              " frozenset({'Ghost_of_Tsushima', 'UNCHARTED_4'}): 17910,\n",
              " frozenset({'A_Way_Out', 'Ghost_of_Tsushima'}): 12458,\n",
              " frozenset({'Death_Stranding', 'Ghost_of_Tsushima'}): 12478,\n",
              " frozenset({'Ghost_of_Tsushima', 'The_Last_of_Us_Part_II'}): 17902,\n",
              " frozenset({'Ghost_of_Tsushima', 'It_Takes_Two'}): 12497,\n",
              " frozenset({'FIFA_22', 'UNCHARTED_4'}): 28070,\n",
              " frozenset({'A_Way_Out', 'FIFA_22'}): 17875,\n",
              " frozenset({'Death_Stranding', 'FIFA_22'}): 17897,\n",
              " frozenset({'FIFA_22', 'The_Last_of_Us_Part_II'}): 28023,\n",
              " frozenset({'FIFA_22', 'It_Takes_Two'}): 18017,\n",
              " frozenset({'A_Way_Out', 'UNCHARTED_4'}): 17906,\n",
              " frozenset({'Death_Stranding', 'UNCHARTED_4'}): 17891,\n",
              " frozenset({'The_Last_of_Us_Part_II', 'UNCHARTED_4'}): 28122,\n",
              " frozenset({'It_Takes_Two', 'UNCHARTED_4'}): 18055,\n",
              " frozenset({'A_Way_Out', 'Death_Stranding'}): 12466,\n",
              " frozenset({'A_Way_Out', 'The_Last_of_Us_Part_II'}): 17938,\n",
              " frozenset({'A_Way_Out', 'It_Takes_Two'}): 12509,\n",
              " frozenset({'Death_Stranding', 'The_Last_of_Us_Part_II'}): 17933,\n",
              " frozenset({'Death_Stranding', 'It_Takes_Two'}): 12539,\n",
              " frozenset({'It_Takes_Two', 'The_Last_of_Us_Part_II'}): 18044,\n",
              " frozenset({'Dying_Light_2', 'God_of_War'}): 17823,\n",
              " frozenset({'Dying_Light_2', 'FIFA_22'}): 17833,\n",
              " frozenset({'Dying_Light_2', 'UNCHARTED_4'}): 17864,\n",
              " frozenset({\"Assassin's_Creed_Odyssey\", 'God_of_War'}): 17831,\n",
              " frozenset({\"Assassin's_Creed_Odyssey\", 'UNCHARTED_4'}): 17935,\n",
              " frozenset({'A_Way_Out', \"Assassin's_Creed_Odyssey\"}): 12553,\n",
              " frozenset({'DAYS_GONE', 'God_of_War'}): 17964,\n",
              " frozenset({'God_of_War', 'Spider-Man:Miles_Morales'}): 17964,\n",
              " frozenset({'God_of_War', 'Red_Dead_Redemption_2'}): 17907,\n",
              " frozenset({'ARK:Survival_Evolved', 'God_of_War'}): 17816,\n",
              " frozenset({'God_of_War', 'MAFIA_Trilogy'}): 17936,\n",
              " frozenset({'Control', 'God_of_War'}): 17776,\n",
              " frozenset({\"Assassin's_Creed_Odyssey\", 'GTA_V'}): 17871,\n",
              " frozenset({'DAYS_GONE', 'GTA_V'}): 17997,\n",
              " frozenset({'GTA_V', 'Spider-Man:Miles_Morales'}): 18047,\n",
              " frozenset({'GTA_V', 'Red_Dead_Redemption_2'}): 17974,\n",
              " frozenset({'ARK:Survival_Evolved', 'GTA_V'}): 17895,\n",
              " frozenset({'GTA_V', 'MAFIA_Trilogy'}): 17963,\n",
              " frozenset({'Control', 'GTA_V'}): 17857,\n",
              " frozenset({\"Assassin's_Creed_Odyssey\", 'Ghost_of_Tsushima'}): 12444,\n",
              " frozenset({'DAYS_GONE', 'Ghost_of_Tsushima'}): 12544,\n",
              " frozenset({'Ghost_of_Tsushima', 'Spider-Man:Miles_Morales'}): 12585,\n",
              " frozenset({'Ghost_of_Tsushima', 'Red_Dead_Redemption_2'}): 12504,\n",
              " frozenset({'ARK:Survival_Evolved', 'Ghost_of_Tsushima'}): 12482,\n",
              " frozenset({'Ghost_of_Tsushima', 'MAFIA_Trilogy'}): 12531,\n",
              " frozenset({'Control', 'Ghost_of_Tsushima'}): 12443,\n",
              " frozenset({\"Assassin's_Creed_Odyssey\", 'FIFA_22'}): 17906,\n",
              " frozenset({'DAYS_GONE', 'FIFA_22'}): 18002,\n",
              " frozenset({'FIFA_22', 'Spider-Man:Miles_Morales'}): 18033,\n",
              " frozenset({'FIFA_22', 'Red_Dead_Redemption_2'}): 17908,\n",
              " frozenset({'ARK:Survival_Evolved', 'FIFA_22'}): 17812,\n",
              " frozenset({'FIFA_22', 'MAFIA_Trilogy'}): 17943,\n",
              " frozenset({'Control', 'FIFA_22'}): 17809,\n",
              " frozenset({'DAYS_GONE', 'UNCHARTED_4'}): 17999,\n",
              " frozenset({'Spider-Man:Miles_Morales', 'UNCHARTED_4'}): 18040,\n",
              " frozenset({'Red_Dead_Redemption_2', 'UNCHARTED_4'}): 18003,\n",
              " frozenset({'ARK:Survival_Evolved', 'UNCHARTED_4'}): 17874,\n",
              " frozenset({'MAFIA_Trilogy', 'UNCHARTED_4'}): 17969,\n",
              " frozenset({'Control', 'UNCHARTED_4'}): 17900,\n",
              " frozenset({'A_Way_Out', 'DAYS_GONE'}): 12599,\n",
              " frozenset({'A_Way_Out', 'Spider-Man:Miles_Morales'}): 12547,\n",
              " frozenset({'A_Way_Out', 'Red_Dead_Redemption_2'}): 12554,\n",
              " frozenset({'ARK:Survival_Evolved', 'A_Way_Out'}): 12443,\n",
              " frozenset({'A_Way_Out', 'MAFIA_Trilogy'}): 12507,\n",
              " frozenset({'A_Way_Out', 'Control'}): 12492,\n",
              " frozenset({\"Assassin's_Creed_Odyssey\", 'Death_Stranding'}): 12459,\n",
              " frozenset({'DAYS_GONE', 'Death_Stranding'}): 12519,\n",
              " frozenset({'Death_Stranding', 'Spider-Man:Miles_Morales'}): 12544,\n",
              " frozenset({'Death_Stranding', 'Red_Dead_Redemption_2'}): 12522,\n",
              " frozenset({'ARK:Survival_Evolved', 'Death_Stranding'}): 12526,\n",
              " frozenset({'Death_Stranding', 'MAFIA_Trilogy'}): 12454,\n",
              " frozenset({'Control', 'Death_Stranding'}): 12453,\n",
              " frozenset({\"Assassin's_Creed_Odyssey\", 'The_Last_of_Us_Part_II'}): 17940,\n",
              " frozenset({'DAYS_GONE', 'The_Last_of_Us_Part_II'}): 18089,\n",
              " frozenset({'Spider-Man:Miles_Morales', 'The_Last_of_Us_Part_II'}): 17974,\n",
              " frozenset({'Red_Dead_Redemption_2', 'The_Last_of_Us_Part_II'}): 17906,\n",
              " frozenset({'ARK:Survival_Evolved', 'The_Last_of_Us_Part_II'}): 17896,\n",
              " frozenset({'MAFIA_Trilogy', 'The_Last_of_Us_Part_II'}): 17981,\n",
              " frozenset({'Control', 'The_Last_of_Us_Part_II'}): 17821,\n",
              " frozenset({\"Assassin's_Creed_Odyssey\", 'DAYS_GONE'}): 12494,\n",
              " frozenset({\"Assassin's_Creed_Odyssey\", 'Spider-Man:Miles_Morales'}): 12620,\n",
              " frozenset({\"Assassin's_Creed_Odyssey\", 'Red_Dead_Redemption_2'}): 12499,\n",
              " frozenset({'ARK:Survival_Evolved', \"Assassin's_Creed_Odyssey\"}): 12504,\n",
              " frozenset({\"Assassin's_Creed_Odyssey\", 'MAFIA_Trilogy'}): 12472,\n",
              " frozenset({\"Assassin's_Creed_Odyssey\", 'Control'}): 12477,\n",
              " frozenset({'DAYS_GONE', 'Spider-Man:Miles_Morales'}): 12655,\n",
              " frozenset({'DAYS_GONE', 'Red_Dead_Redemption_2'}): 12589,\n",
              " frozenset({'ARK:Survival_Evolved', 'DAYS_GONE'}): 12606,\n",
              " frozenset({'DAYS_GONE', 'MAFIA_Trilogy'}): 12590,\n",
              " frozenset({'Control', 'DAYS_GONE'}): 12449,\n",
              " frozenset({'Red_Dead_Redemption_2', 'Spider-Man:Miles_Morales'}): 12612,\n",
              " frozenset({'ARK:Survival_Evolved', 'Spider-Man:Miles_Morales'}): 12559,\n",
              " frozenset({'MAFIA_Trilogy', 'Spider-Man:Miles_Morales'}): 12578,\n",
              " frozenset({'Control', 'Spider-Man:Miles_Morales'}): 12511,\n",
              " frozenset({'ARK:Survival_Evolved', 'Red_Dead_Redemption_2'}): 12455,\n",
              " frozenset({'MAFIA_Trilogy', 'Red_Dead_Redemption_2'}): 12646,\n",
              " frozenset({'Control', 'Red_Dead_Redemption_2'}): 12511,\n",
              " frozenset({'ARK:Survival_Evolved', 'MAFIA_Trilogy'}): 12519,\n",
              " frozenset({'ARK:Survival_Evolved', 'Control'}): 12446,\n",
              " frozenset({'Control', 'MAFIA_Trilogy'}): 12478,\n",
              " frozenset({'Dying_Light_2', 'Far_Cry_6'}): 12436,\n",
              " frozenset({\"Assassin's_Creed_Odyssey\", 'Far_Cry_6'}): 12512,\n",
              " frozenset({'Far_Cry_6', 'Horizon_Forbidden_West'}): 12432,\n",
              " frozenset({'God_of_War', 'Horizon_Forbidden_West'}): 17924,\n",
              " frozenset({'Dying_Light_2', 'Gran_Turismo_7'}): 12463,\n",
              " frozenset({\"Assassin's_Creed_Odyssey\", 'Gran_Turismo_7'}): 12437,\n",
              " frozenset({'Gran_Turismo_7', 'Horizon_Forbidden_West'}): 12544,\n",
              " frozenset({'Dying_Light_2', 'GTA_V'}): 17885,\n",
              " frozenset({'GTA_V', 'Horizon_Forbidden_West'}): 17979,\n",
              " frozenset({'Horizon_Forbidden_West', 'UNCHARTED_4'}): 18024,\n",
              " frozenset({'Dying_Light_2', 'The_Last_of_Us_Part_II'}): 17982,\n",
              " frozenset({'Horizon_Forbidden_West', 'The_Last_of_Us_Part_II'}): 18020,\n",
              " frozenset({\"Assassin's_Creed_Odyssey\", 'Dying_Light_2'}): 12444,\n",
              " frozenset({'Dying_Light_2', 'Horizon_Forbidden_West'}): 12519,\n",
              " frozenset({\"Assassin's_Creed_Odyssey\", 'Horizon_Forbidden_West'}): 12475,\n",
              " frozenset({'DAYS_GONE', 'Far_Cry_6'}): 12489,\n",
              " frozenset({'Far_Cry_6', 'Spider-Man:Miles_Morales'}): 12466,\n",
              " frozenset({'Far_Cry_6', 'Red_Dead_Redemption_2'}): 12350,\n",
              " frozenset({'ARK:Survival_Evolved', 'Far_Cry_6'}): 12375,\n",
              " frozenset({'Control', 'Far_Cry_6'}): 12392,\n",
              " frozenset({'DAYS_GONE', 'Gran_Turismo_7'}): 12622,\n",
              " frozenset({'Gran_Turismo_7', 'Spider-Man:Miles_Morales'}): 12542,\n",
              " frozenset({'Gran_Turismo_7', 'Red_Dead_Redemption_2'}): 12491,\n",
              " frozenset({'ARK:Survival_Evolved', 'Gran_Turismo_7'}): 12496,\n",
              " frozenset({'Control', 'Gran_Turismo_7'}): 12436,\n",
              " frozenset({'Dying_Light_2', 'Ghost_of_Tsushima'}): 12422,\n",
              " frozenset({'Ghost_of_Tsushima', 'Horizon_Forbidden_West'}): 12505,\n",
              " frozenset({'FIFA_22', 'Horizon_Forbidden_West'}): 17950,\n",
              " frozenset({'Death_Stranding', 'Dying_Light_2'}): 12480,\n",
              " frozenset({'Death_Stranding', 'Horizon_Forbidden_West'}): 12523,\n",
              " frozenset({'Dying_Light_2', 'It_Takes_Two'}): 12467,\n",
              " frozenset({\"Assassin's_Creed_Odyssey\", 'It_Takes_Two'}): 12508,\n",
              " frozenset({'DAYS_GONE', 'It_Takes_Two'}): 12650,\n",
              " frozenset({'It_Takes_Two', 'Spider-Man:Miles_Morales'}): 12640,\n",
              " frozenset({'It_Takes_Two', 'Red_Dead_Redemption_2'}): 12647,\n",
              " frozenset({'ARK:Survival_Evolved', 'It_Takes_Two'}): 12500,\n",
              " frozenset({'Control', 'It_Takes_Two'}): 12512,\n",
              " frozenset({'Horizon_Forbidden_West', 'It_Takes_Two'}): 12555,\n",
              " frozenset({'DAYS_GONE', 'Dying_Light_2'}): 12573,\n",
              " frozenset({'Dying_Light_2', 'Spider-Man:Miles_Morales'}): 12492,\n",
              " frozenset({'Dying_Light_2', 'Red_Dead_Redemption_2'}): 12522,\n",
              " frozenset({'ARK:Survival_Evolved', 'Dying_Light_2'}): 12467,\n",
              " frozenset({'Control', 'Dying_Light_2'}): 12441,\n",
              " frozenset({'DAYS_GONE', 'Horizon_Forbidden_West'}): 12598,\n",
              " frozenset({'Horizon_Forbidden_West', 'Spider-Man:Miles_Morales'}): 12537,\n",
              " frozenset({'Horizon_Forbidden_West', 'Red_Dead_Redemption_2'}): 12549,\n",
              " frozenset({'ARK:Survival_Evolved', 'Horizon_Forbidden_West'}): 12514,\n",
              " frozenset({'Control', 'Horizon_Forbidden_West'}): 12512,\n",
              " frozenset({'A_Way_Out', 'Dying_Light_2'}): 12390,\n",
              " frozenset({'A_Way_Out', 'Horizon_Forbidden_West'}): 12505,\n",
              " frozenset({'Far_Cry_6', 'MAFIA_Trilogy'}): 12384,\n",
              " frozenset({'Gran_Turismo_7', 'MAFIA_Trilogy'}): 12485,\n",
              " frozenset({'It_Takes_Two', 'MAFIA_Trilogy'}): 12627,\n",
              " frozenset({'Dying_Light_2', 'MAFIA_Trilogy'}): 12497,\n",
              " frozenset({'Horizon_Forbidden_West', 'MAFIA_Trilogy'}): 12566}"
            ]
          },
          "metadata": {},
          "execution_count": 17
        }
      ]
    },
    {
      "cell_type": "code",
      "source": [
        "conf_list=[]\n",
        "for k, v in item_count.items():\n",
        "      X_and_Y = list(k)\n",
        "      support_X = item_support_dict.get(frozenset({X_and_Y[0]}))\n",
        "      support_Y = item_support_dict.get(frozenset({X_and_Y[1]}))\n",
        "      conf_list.append([X_and_Y,float(v/support_X)])\n",
        "      Y_and_X = X_and_Y[::-1]\n",
        "      conf_list.append([Y_and_X,float(v/support_Y)])\n",
        "conf_list[:5]"
      ],
      "metadata": {
        "colab": {
          "base_uri": "https://localhost:8080/"
        },
        "id": "wb46Gp6cQA-m",
        "outputId": "9db805fd-272e-43df-f10c-96119f7bf2da"
      },
      "execution_count": null,
      "outputs": [
        {
          "output_type": "execute_result",
          "data": {
            "text/plain": [
              "[[['God_of_War', 'Far_Cry_6'], 0.5461870947823402],\n",
              " [['Far_Cry_6', 'God_of_War'], 0.9049567752826232],\n",
              " [['Far_Cry_6', 'Gran_Turismo_7'], 0.6343546984500485],\n",
              " [['Gran_Turismo_7', 'Far_Cry_6'], 0.6305486347689022],\n",
              " [['GTA_V', 'Far_Cry_6'], 0.5455940578864983]]"
            ]
          },
          "metadata": {},
          "execution_count": 20
        }
      ]
    },
    {
      "cell_type": "code",
      "source": [
        "sorted_list = sorted(conf_list, key=lambda x: x[1],reverse=True)\n",
        "(sorted_list[:5])"
      ],
      "metadata": {
        "colab": {
          "base_uri": "https://localhost:8080/"
        },
        "id": "ZgvsIZ1kQOWh",
        "outputId": "33ab162b-98c7-4817-cf88-d1d22319e8f1"
      },
      "execution_count": null,
      "outputs": [
        {
          "output_type": "execute_result",
          "data": {
            "text/plain": [
              "[[['Dying_Light_2', 'The_Last_of_Us_Part_II'], 0.9150213718705476],\n",
              " [['ARK:Survival_Evolved', 'The_Last_of_Us_Part_II'], 0.9136672282636442],\n",
              " [['ARK:Survival_Evolved', 'GTA_V'], 0.9136161739929545],\n",
              " [['ARK:Survival_Evolved', 'UNCHARTED_4'], 0.9125440343084699],\n",
              " [['Ghost_of_Tsushima', 'UNCHARTED_4'], 0.9119608941392128]]"
            ]
          },
          "metadata": {},
          "execution_count": 21
        }
      ]
    },
    {
      "cell_type": "markdown",
      "source": [
        "# Part b"
      ],
      "metadata": {
        "id": "UUe-l4lKQZ4X"
      }
    },
    {
      "cell_type": "code",
      "source": [
        "c2 = ck\n",
        "freq_item2, item_support2 = create_freq_item(trans, c2, 0.003)"
      ],
      "metadata": {
        "id": "vnECIg1AQYUC"
      },
      "execution_count": null,
      "outputs": []
    },
    {
      "cell_type": "code",
      "source": [
        "c3 = create_candidate_k(freq_item2, 1)"
      ],
      "metadata": {
        "id": "pD5rSbDsQuu7"
      },
      "execution_count": null,
      "outputs": []
    },
    {
      "cell_type": "code",
      "source": [
        "triple_item_count = {}\n",
        "for transaction in trans:\n",
        "    for item in c3:\n",
        "        if item.issubset(transaction):\n",
        "            if item not in triple_item_count:\n",
        "                triple_item_count[item] = 1\n",
        "            else:\n",
        "                triple_item_count[item] += 1"
      ],
      "metadata": {
        "id": "XTFhyeHgQz74"
      },
      "execution_count": null,
      "outputs": []
    },
    {
      "cell_type": "code",
      "source": [
        "triple_conf_list = []\n",
        "for k, v in triple_item_count.items():\n",
        "    X_and_Y_and_Z = list(k)\n",
        "    support_X_Y = item_count.get(frozenset({X_and_Y_and_Z[0],X_and_Y_and_Z[1]}))\n",
        "    support_Y_Z = item_count.get(frozenset({X_and_Y_and_Z[1],X_and_Y_and_Z[2]}))\n",
        "    support_X_Z = item_count.get(frozenset({X_and_Y_and_Z[0],X_and_Y_and_Z[2]}))\n",
        "    triple_conf_list.append([X_and_Y_and_Z, float(v / support_X_Y)])\n",
        "    Z_and_Y_and_X = X_and_Y_and_Z[::-1]\n",
        "    triple_conf_list.append([Z_and_Y_and_X, float(v / support_Y_Z)])\n",
        "    Z_and_Y_and_X[1], Z_and_Y_and_X[2] = Z_and_Y_and_X[2], Z_and_Y_and_X[1]\n",
        "    triple_conf_list.append([Z_and_Y_and_X, float(v / support_X_Z)])\n",
        "sorted_list = sorted(triple_conf_list, key=lambda x: x[1], reverse=True)\n",
        "(sorted_list[:5])"
      ],
      "metadata": {
        "id": "xA2cgC-oQ4V3",
        "outputId": "5b3536fa-bbe6-4e00-a21c-3a5b2a63f3ce",
        "colab": {
          "base_uri": "https://localhost:8080/"
        }
      },
      "execution_count": null,
      "outputs": [
        {
          "output_type": "execute_result",
          "data": {
            "text/plain": [
              "[[['DAYS_GONE', \"Assassin's_Creed_Odyssey\", 'The_Last_of_Us_Part_II'],\n",
              "  0.9635825196094125],\n",
              " [['A_Way_Out', 'Ghost_of_Tsushima', 'UNCHARTED_4'], 0.9634772836731418],\n",
              " [['Far_Cry_6', 'GTA_V', 'Ghost_of_Tsushima'], 0.9633978459794316],\n",
              " [['Red_Dead_Redemption_2', 'ARK:Survival_Evolved', 'UNCHARTED_4'],\n",
              "  0.9633881975110398],\n",
              " [['Gran_Turismo_7', 'Ghost_of_Tsushima', 'The_Last_of_Us_Part_II'],\n",
              "  0.9633336001921383]]"
            ]
          },
          "metadata": {},
          "execution_count": 25
        }
      ]
    }
  ]
}