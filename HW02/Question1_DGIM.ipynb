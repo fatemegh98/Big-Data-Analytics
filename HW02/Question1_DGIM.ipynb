{
  "nbformat": 4,
  "nbformat_minor": 0,
  "metadata": {
    "colab": {
      "name": "Question1_DGIM.ipynb",
      "provenance": []
    },
    "kernelspec": {
      "name": "python3",
      "display_name": "Python 3"
    },
    "language_info": {
      "name": "python"
    }
  },
  "cells": [
    {
      "cell_type": "code",
      "source": [
        "import os\n",
        "import time\n",
        "\n",
        "\n",
        "def add_1(data, idx, max_key, cnt):\n",
        "    data[0] = [[idx, cnt]] + data[0]\n",
        "    current = 0\n",
        "    while len(data[current]) > 2:\n",
        "        assert len(data[current]) == 3\n",
        "        buckets = data[current][-2:]\n",
        "        data[current] = data[current][:1]\n",
        "        current += 1\n",
        "        \n",
        "        if data.get(current, None) is None:\n",
        "            data[current] = [buckets[0]]\n",
        "            max_key = current\n",
        "            # assert max_key == current\n",
        "        else:\n",
        "            data[current] = [buckets[0]] + data[current]\n",
        "    return max_key\n",
        "\n",
        "\n",
        "def output_data(data, max_key):\n",
        "    cnt = 0\n",
        "    mul = 1\n",
        "    for i in range(max_key + 1):\n",
        "        # print(len(data[i]) * mul)\n",
        "        cnt += len(data[i]) * mul\n",
        "        mul *= 2\n",
        "    print(\"Count of 1's:\", cnt - mul // 4)\n",
        "    return cnt - mul // 4\n",
        "\n",
        "\n",
        "cnt = 0\n",
        "idx = 0\n",
        "bucket_dict = {0: []}\n",
        "max_key = 0\n",
        "window_size = 1000\n",
        "\n",
        "start = time.time()\n",
        "with open(\"stream_data_dgim.txt\", \"r\") as f:\n",
        "    while True:\n",
        "        input_bit = f.read(1)\n",
        "        if not input_bit:\n",
        "            DGIM_count = output_data(bucket_dict, max_key)\n",
        "            break\n",
        "        if input_bit == \"\\t\":\n",
        "            continue\n",
        "        if len(bucket_dict[0]) > 0 and idx == bucket_dict[max_key][-1][0]:\n",
        "            bucket_dict[max_key] = bucket_dict[max_key][:-1]\n",
        "            if len(bucket_dict[max_key]) == 0:\n",
        "                bucket_dict.pop(max_key)\n",
        "                max_key -= 1\n",
        "        if input_bit == '1':\n",
        "            max_key = add_1(bucket_dict, idx, max_key, cnt)\n",
        "        cnt += 1\n",
        "        idx = cnt % window_size\n",
        "        \n",
        "end = time.time()\n",
        "print(\"Run Time(s): %.4f\" % (end - start))"
      ],
      "metadata": {
        "id": "-2yuysp6nmtb",
        "colab": {
          "base_uri": "https://localhost:8080/"
        },
        "outputId": "bcb1fd60-fa2d-40c8-e67f-9b7dbc913751"
      },
      "execution_count": 1,
      "outputs": [
        {
          "output_type": "stream",
          "name": "stdout",
          "text": [
            "Count of 1's: 508\n",
            "Run Time(s): 0.0614\n"
          ]
        }
      ]
    },
    {
      "cell_type": "code",
      "source": [
        "def get_last_k(data, k, last, max_key):\n",
        "    target = last - k\n",
        "    res = 0\n",
        "    mul = 1\n",
        "    for i in range(max_key + 1):\n",
        "        for j in range(len(data[i])):\n",
        "            if data[i][j][1] > target:\n",
        "                res += mul\n",
        "            else:\n",
        "                if j == 0:\n",
        "                    res -= mul // 4\n",
        "                else:\n",
        "                    res -= mul // 2\n",
        "                return res\n",
        "        mul *= 2\n",
        "\n",
        "print(\"count of 1's in the last 200 bits:\", get_last_k(bucket_dict, 200, cnt, max_key))\n",
        "print(\"count of 1's in the last 500 bits:\", get_last_k(bucket_dict, 500, cnt, max_key))"
      ],
      "metadata": {
        "colab": {
          "base_uri": "https://localhost:8080/"
        },
        "id": "YhIVNMNPn810",
        "outputId": "55ea9db4-7925-4264-eec2-9e0f13370e7a"
      },
      "execution_count": 3,
      "outputs": [
        {
          "output_type": "stream",
          "name": "stdout",
          "text": [
            "count of 1's in the last 200 bits: 76\n",
            "count of 1's in the last 500 bits: 220\n"
          ]
        }
      ]
    },
    {
      "cell_type": "code",
      "source": [
        "window = []\n",
        "counter = 0\n",
        "\n",
        "start = time.time()\n",
        "with open(\"stream_data_dgim.txt\", \"r\") as f:\n",
        "    while True:\n",
        "        input_bit = f.read(1)\n",
        "        if not input_bit:\n",
        "            print(\"Accurate Count:\", counter)\n",
        "            break\n",
        "        if input_bit not in ['0', '1']:\n",
        "            continue\n",
        "        if len(window) < window_size:\n",
        "            window.append(input_bit)\n",
        "            if input_bit == '1':\n",
        "                counter += 1\n",
        "        else:\n",
        "            out_bit = window[0]\n",
        "            window = window[1:] + [input_bit]\n",
        "            if input_bit == '1' and out_bit != '1':\n",
        "                counter += 1\n",
        "            elif input_bit != '1' and out_bit == '1':\n",
        "                counter -= 1\n",
        "end = time.time()\n",
        "print(\"Accurate Count Run Time(s): %.4f\" % (end - start))\n",
        "print(\"Error: %.2f\" % (abs(DGIM_count - counter) * 100 / counter), \"%\")"
      ],
      "metadata": {
        "colab": {
          "base_uri": "https://localhost:8080/"
        },
        "id": "3MG48AaoOr_4",
        "outputId": "ccb2db94-1955-4d60-b551-2576235bd146"
      },
      "execution_count": 4,
      "outputs": [
        {
          "output_type": "stream",
          "name": "stdout",
          "text": [
            "Accurate Count: 391\n",
            "Accurate Count Run Time(s): 0.2518\n",
            "Error: 29.92 %\n"
          ]
        }
      ]
    }
  ]
}